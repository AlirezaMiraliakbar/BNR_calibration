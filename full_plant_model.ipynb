{
 "cells": [
  {
   "cell_type": "code",
   "execution_count": 1,
   "id": "be7ff1bc",
   "metadata": {},
   "outputs": [],
   "source": [
    "using ModelingToolkit\n",
    "using ModelingToolkit: t_nounits as t, D_nounits as D\n",
    "using JuMP: @variable, @objective, @constraint, Model, optimize!, termination_status, value\n",
    "using CSV, DataFrames, Distributions\n",
    "using Random, Dates, Unitful"
   ]
  },
  {
   "cell_type": "code",
   "execution_count": 2,
   "id": "53d10a9c",
   "metadata": {},
   "outputs": [],
   "source": [
    "include(\"./Influent/InfluentGenerator.jl\");\n",
    "include(\"./Effluent/EffluentGenerator.jl\");\n",
    "include(\"./Unit Operations/MaterialStream.jl\");\n",
    "include(\"./Unit Operations/Mixer.jl\");\n",
    "include(\"./Unit Operations/Splitter.jl\");\n",
    "include(\"./Unit Operations/CSTR.jl\");"
   ]
  },
  {
   "cell_type": "code",
   "execution_count": 3,
   "id": "ac59c296",
   "metadata": {},
   "outputs": [
    {
     "name": "stdout",
     "output_type": "stream",
     "text": [
      "COD/BOD ratios saved to ./Influent/COD_BOD_ratios.csv\n",
      "Number of common dates: 440\n",
      "Number of rows in filtered ratios_df: 440\n",
      "Number of rows in filtered df: 440\n"
     ]
    }
   ],
   "source": [
    "influent = generate_influent_ss();\n",
    "inlet_temp = influent[1];\n",
    "inlet_comp = influent[2:end];\n",
    "# UConn average flowrate in m3 / day -> tau for each reactor = 0.3 days -> 1.5 days for whole BNR system\n",
    "inlet_flowrate = 3785.42 \n",
    "# ============================================= EFFLUENT DATA ================================================#\n",
    "effluent = generate_effluent_ss();\n",
    "effluent_comp = effluent[2:end];\n",
    "# ============================================= SIMULATION TIME ==============================================#\n",
    "# time of simulation in days\n",
    "t_end = 100;\n",
    "\n",
    "init_vec = copy(inlet_comp);\n",
    "init_vec[10] = 5;\n",
    "init_vec[11] = 5;\n",
    "init_vec[12] = 5;\n",
    "\n",
    "init_vec_anoxic = copy(init_vec);\n",
    "init_vec_anoxic[1] = 0.0;\n"
   ]
  },
  {
   "cell_type": "code",
   "execution_count": null,
   "id": "0d1e3210",
   "metadata": {},
   "outputs": [],
   "source": [
    "function compile_BNR()\n",
    "\n",
    "    @mtkmodel BNRPlantModel begin\n",
    "        @components begin\n",
    "\n",
    "            Influent = InletStream(comp = inlet_comp, flow_rate = inlet_flowrate)\n",
    "            reactor1 = ASM3_CSTR_Aerator(vol = 1135.6, switch=0, Temp = 20)\n",
    "            reactor2 = ASM3_CSTR_Aerator(vol = 1135.6, switch=1, Temp = 20)\n",
    "            reactor3 = ASM3_CSTR_Aerator(vol = 1135.6, switch=0, Temp = 20)\n",
    "            reactor4 = ASM3_CSTR_Aerator(vol = 1135.6, switch=1, Temp = 20)\n",
    "            reactor5 = ASM3_CSTR_Aerator(vol = 1135.6, switch=0, Temp = 20)\n",
    "            splitter1 = Splitter_1in_3out(Out_factor = [0.5,0.4,0.1])\n",
    "            mixer1 = Mixer_2in_1out()\n",
    "            mixer2 = Mixer_2in_1out()\n",
    "\n",
    "        end\n",
    "    \n",
    "        @equations begin\n",
    "            connect(Influent.port,mixer1.In1)\n",
    "            connect(splitter1.Out3,mixer1.In2)\n",
    "            connect(mixer1.Out1,reactor1.In)\n",
    "            connect(reactor1.Out,mixer2.In1)\n",
    "            connect(splitter1.Out1,reactor2.In)\n",
    "            connect(reactor2.Out,mixer2.In2)\n",
    "            connect(mixer2.Out1,reactor3.In)\n",
    "            connect(reactor3.Out,reactor4.In)\n",
    "            connect(reactor4.Out,reactor5.In)\n",
    "            connect(reactor5.Out,splitter1.In1)\n",
    "        end\n",
    "    end\n",
    "\n",
    "    @mtkcompile BNR_system = BNRPlantModel() \n",
    "\n",
    "    return BNR_system\n",
    "end"
   ]
  }
 ],
 "metadata": {
  "kernelspec": {
   "display_name": "Julia 1.11.5",
   "language": "julia",
   "name": "julia-1.11"
  },
  "language_info": {
   "file_extension": ".jl",
   "mimetype": "application/julia",
   "name": "julia",
   "version": "1.11.5"
  }
 },
 "nbformat": 4,
 "nbformat_minor": 5
}
